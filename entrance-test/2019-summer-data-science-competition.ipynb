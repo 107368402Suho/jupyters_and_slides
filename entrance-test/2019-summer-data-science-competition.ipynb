{
 "cells": [
  {
   "cell_type": "markdown",
   "metadata": {},
   "source": [
    "#### 为了保证课程的质量，请参加《Kaggle数据科学竞赛强化》课程的同学完成以下入学测试，以下包含10个问题。若10个问题中有超过6个问题回答正确，则具备参加此课程的能力。问题答案附在测试的末尾，请各位同学进行自我打分。"
   ]
  },
  {
   "cell_type": "markdown",
   "metadata": {},
   "source": [
    "Question1: 目前常用的贝叶斯分类方法，我们往往称为朴素贝叶斯分类（Naive Bayes Classification）。 该分类器之所以叫“朴素”贝叶斯的原因是：\n",
    "```\n",
    "[ ] A. 常用的贝叶斯分类使用的数据量较小，相对比较简单，所以称为“朴素”分类器；\n",
    "\n",
    "[ ] B. 此贝叶斯分类方法只能解决类别较少的分类问题，所以称为“朴素”分类器；\n",
    "\n",
    "[ ] C. 此贝叶斯分类器对条件概率，例如 Pr(A|CB)进行了简化，简化成了Pr(A|B)，所以称为“朴素”分类器；\n",
    "\n",
    "[ ] D. 此贝叶斯分类方法只能进行分类问题，不能进行回归(Regression)，所以称为“朴素”分类器.\n",
    "```"
   ]
  },
  {
   "cell_type": "markdown",
   "metadata": {},
   "source": [
    "Question2: 如果我们把机器学习的模型看成是定义一个函数$f(\\vec{x}; \\theta)$，该函数接受一个输入 $\\vec{x}$，该输入是我们对现有数据进行的数据表征（Representation）. 然后基于我们的函数，获得期望的输出。而机器学习的过程可以看做是对$f(x)$的相关参数 $\\theta$进行优化的过程。那么，如果我们现在要进行预测或者分类的程序包含城市名称信息，例如“北京”，“武汉”，那么，如何把“北京”，“武汉”等城市信息进行表征成所需的 $\\vec{x}$？"
   ]
  },
  {
   "cell_type": "markdown",
   "metadata": {},
   "source": [
    "```\n",
    "[ ] A. 使用中国的邮政编码作为每个城市的向量代码，输入f(x)时，北京就是 [10000,], 武汉就是[43000,];\n",
    "\n",
    "[ ] B. 按照音标对城市进行排序，输入f(x)时，北京就是 [1, ], 武汉可能是 [20, ];\n",
    "\n",
    "[ ] C. 将城市表征成one-hot形式，如果一个有5个城市，则北京是 [0,0,0,0, 1], 武汉是 [1, 0, 0, 0, 0];\n",
    "\n",
    "[ ] D. 将城市的信息与人口统计学、位置等信息进行表征，例如北京和武汉的向量分别是： [城市人口的平均年龄，经度，维度];\n",
    "```"
   ]
  },
  {
   "cell_type": "markdown",
   "metadata": {},
   "source": [
    "Question3: 关于过拟合(overfitting)和欠拟合(underfitting)的表述中，错误的是？"
   ]
  },
  {
   "cell_type": "markdown",
   "metadata": {},
   "source": [
    "```\n",
    "[ ] A. 过拟合和欠拟合是机器学习中非常常见的现象；\n",
    "\n",
    "[ ] B. 造成过拟合的原因往往是机器学习模型中需要拟合的参数过少造成的；\n",
    "\n",
    "[ ] C. 造成欠拟合的原因往往是机器学习模型的模型过于简单或者函数定义错误造成的；\n",
    "\n",
    "[ ] D. 增加训练数据并不能有效解决欠拟合（under fitting）问题;\n",
    "```"
   ]
  },
  {
   "cell_type": "markdown",
   "metadata": {},
   "source": [
    "Question4: 深度学习中，关于softmax函数的描述，错误的是？\n",
    "\n",
    "```\n",
    "[ ] A. 把经过神经网络求得的值变成概率分布。这个概率分布可以用作概率的真实估计;\n",
    "\n",
    "[ ] B. logstic函数是softmax的一维特殊形式；\n",
    "\n",
    "[ ] C. 当softmax的输入值较大时，例如[19999, 23333, 433399]，往往会出现数据溢出错误;\n",
    "\n",
    "[ ] D. softmax函数是一种常用的Loss函数，可以用来衡量模型的优良;\n",
    "```"
   ]
  },
  {
   "cell_type": "markdown",
   "metadata": {},
   "source": [
    "Question5: 关于卷积神经网络(Convolutional Neural Networks)描述错误的是？"
   ]
  },
  {
   "cell_type": "markdown",
   "metadata": {},
   "source": [
    "```\n",
    "[ ] A. 卷积神经网络中，Pooling层的作用是减少数据维度，降低需要训练的参数，从而减少过拟合;\n",
    "\n",
    "[ ] B. 卷积神经网络中，Batch Normalization的作用是减弱层数过多造成的信息传播困难；\n",
    "\n",
    "[ ] C. Dropout可以提高模型的泛化能力；\n",
    "\n",
    "[ ] D. 卷积神经网络中，权值参数的初始化并不会很大程序上影响模型的拟合能力\n",
    "```"
   ]
  },
  {
   "cell_type": "markdown",
   "metadata": {},
   "source": [
    "Question6:关于词向量(word Vector)的描述，正确的是？"
   ]
  },
  {
   "cell_type": "markdown",
   "metadata": {},
   "source": [
    "``` \n",
    "[ ] A. 词向量的目标是把意思相近的单词变成向量空间距离解决的向量集合； \n",
    "\n",
    "[ ] B. 训练词向量需要对单词的相似度进行打标，进行监督学习；\n",
    "\n",
    "[ ] C. 训练词向量时，包含的单词种类越多，训练的单词聚类效果越好；\n",
    "\n",
    "[ ] D. 随着人工智能技术的快速发展，目前词向量能够比较好的解决一词多义问题；\n",
    "```"
   ]
  },
  {
   "cell_type": "markdown",
   "metadata": {},
   "source": [
    "Qustion7: 关于深度学习与GPU之前的描述，错误的是？\n",
    "```\n",
    "[ ] A. 深度学习中大量使用到了矩阵（matrix）的计算；\n",
    "\n",
    "[ ] B. 矩阵运算可以使用GPU进行并行加速处理；\n",
    "\n",
    "[ ] C. 使用GPU可以提供模型最终的准确率；\n",
    "\n",
    "[ ] D. GPU原本是进行图像处理的，但是深度学习和图像处理所相关的主要操作是类似的；\n",
    "```"
   ]
  },
  {
   "cell_type": "markdown",
   "metadata": {},
   "source": [
    "Qustion8: 如果要对Python的某个dictionary, D, 按照值的大小进行排序，以下方法中，错误的是：\n",
    "\n",
    "\n",
    "\n",
    "```\n",
    "[ ] A. \n",
    "    import operator as op\n",
    "    \n",
    "    D = {1: 0, 2: 3}\n",
    "    sorted(D.items(), key=lambda x: op.getitem(x, 0))\n",
    "```"
   ]
  },
  {
   "cell_type": "markdown",
   "metadata": {},
   "source": [
    "```\n",
    "[] B. \n",
    "    D = {1: 0, 2: 3}\n",
    "    sorted(D.items(), key=lambda x: x[0])\n",
    "```"
   ]
  },
  {
   "cell_type": "markdown",
   "metadata": {},
   "source": [
    "```\n",
    "[ ] C. \n",
    "    D = {1: 0, 2: 3}\n",
    "    sorted(D, key=lambda x: x.value)\n",
    "```"
   ]
  },
  {
   "cell_type": "markdown",
   "metadata": {},
   "source": [
    "```\n",
    "[ ] D.\n",
    "    D = {1: 0, 2: 3}\n",
    "    [(x, D[x]) for x in sorted(D, key=lambda x: D[x])]\n",
    "```"
   ]
  },
  {
   "cell_type": "markdown",
   "metadata": {},
   "source": [
    "Qustion9: 以下 Python 代码不能正确运行的是? "
   ]
  },
  {
   "cell_type": "markdown",
   "metadata": {},
   "source": [
    "```\n",
    "[ ] A. \n",
    "    D = {1: 0, 2: 3}\n",
    "    \n",
    "    P1 = (1, 2)\n",
    "    D[P1] = 'red'\n",
    "   \n",
    "```"
   ]
  },
  {
   "cell_type": "markdown",
   "metadata": {},
   "source": [
    "```\n",
    "[ ] B. \n",
    "    D = {1: 0, 2: 3}\n",
    "  \n",
    "    P1 = [1, 2]\n",
    "    D[P1] = 'green'\n",
    "```"
   ]
  },
  {
   "cell_type": "markdown",
   "metadata": {},
   "source": [
    "```\n",
    "[ ] C. \n",
    "    test_func = lambda x: x[1]\n",
    "    \n",
    "    def some_func(a, b):\n",
    "        return b(a)\n",
    "    \n",
    "    P1 = (1, 2)\n",
    "    some_func(P1, test_func)\n",
    "```"
   ]
  },
  {
   "cell_type": "markdown",
   "metadata": {},
   "source": [
    "```\n",
    "[ ] D. \n",
    "    def fib(n):\n",
    "        return fib(n-1) + fib(n-2) if n > 1 else n\n",
    "        \n",
    "    print(fib(10))\n",
    "```"
   ]
  },
  {
   "cell_type": "markdown",
   "metadata": {},
   "source": [
    "Qustion10: 以下哪个变量是可以作为Python集合的元素的？"
   ]
  },
  {
   "cell_type": "markdown",
   "metadata": {},
   "source": [
    "```\n",
    "[ ] A:  some_fronzen = frozenset({1, 2, 3})\n",
    "\n",
    "[ ] B:  some_list = [1, 2, 3]\n",
    "\n",
    "[ ] C:  some_set = {1, 2, 3}\n",
    "\n",
    "[ ] D:  some_dict = {1: 2}\n",
    "```"
   ]
  },
  {
   "cell_type": "markdown",
   "metadata": {},
   "source": [
    "### 参考答案: \n",
    "1. C\n",
    "2. C或者D\n",
    "3. B\n",
    "4. D\n",
    "5. D\n",
    "6. D\n",
    "7. C\n",
    "8. C\n",
    "9. B\n",
    "10. A"
   ]
  }
 ],
 "metadata": {
  "kernelspec": {
   "display_name": "Python 3",
   "language": "python",
   "name": "python3"
  },
  "language_info": {
   "codemirror_mode": {
    "name": "ipython",
    "version": 3
   },
   "file_extension": ".py",
   "mimetype": "text/x-python",
   "name": "python",
   "nbconvert_exporter": "python",
   "pygments_lexer": "ipython3",
   "version": "3.7.3"
  }
 },
 "nbformat": 4,
 "nbformat_minor": 2
}
