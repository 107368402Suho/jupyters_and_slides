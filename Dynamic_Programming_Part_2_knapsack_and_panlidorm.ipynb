{
 "cells": [
  {
   "cell_type": "code",
   "execution_count": 1,
   "metadata": {},
   "outputs": [
    {
     "data": {
      "text/plain": [
       "\"\\nProblem Defination: Given a sequence of chars, get the longest panlindorm it contains.\\n\\ne.g \\nInput: 'ABA'\\nOutput: 'ABA'\\nInput: 'ABAAAAB'\\nOutput: 'BAAAAB'\\nInput: 'I Live on the time, emit no evil at all.'\\nOutput: 'Live on the time, emit no evil'\\n\""
      ]
     },
     "execution_count": 1,
     "metadata": {},
     "output_type": "execute_result"
    }
   ],
   "source": [
    "\"\"\"\n",
    "Problem Defination: Given a sequence of chars, get the longest panlindorm it contains.\n",
    "\n",
    "e.g \n",
    "Input: 'ABA'\n",
    "Output: 'ABA'\n",
    "Input: 'ABAAAAB'\n",
    "Output: 'BAAAAB'\n",
    "Input: 'I Live on the time, emit no evil at all.'\n",
    "Output: 'Live on the time, emit no evil'\n",
    "\"\"\""
   ]
  },
  {
   "cell_type": "code",
   "execution_count": 7,
   "metadata": {},
   "outputs": [],
   "source": [
    "import string"
   ]
  },
  {
   "cell_type": "code",
   "execution_count": 16,
   "metadata": {},
   "outputs": [],
   "source": [
    "letters_digits = string.ascii_letters + string.digits"
   ]
  },
  {
   "cell_type": "code",
   "execution_count": 18,
   "metadata": {},
   "outputs": [
    {
     "data": {
      "text/plain": [
       "'abcdefghijklmnopqrstuvwxyzABCDEFGHIJKLMNOPQRSTUVWXYZ'"
      ]
     },
     "execution_count": 18,
     "metadata": {},
     "output_type": "execute_result"
    }
   ],
   "source": [
    "string.ascii_letters"
   ]
  },
  {
   "cell_type": "code",
   "execution_count": 37,
   "metadata": {},
   "outputs": [],
   "source": [
    "from icecream import ic"
   ]
  },
  {
   "cell_type": "code",
   "execution_count": 55,
   "metadata": {},
   "outputs": [],
   "source": [
    "from functools import lru_cache"
   ]
  },
  {
   "cell_type": "code",
   "execution_count": 56,
   "metadata": {},
   "outputs": [],
   "source": [
    "def is_panlindorm(string):\n",
    "    string = ''.join([c for c in string if c in letters_digits]).upper()\n",
    "    return string == string[::-1]\n",
    "\n",
    "def get_prefix_panlindorm(string):\n",
    "    candidates = [string[:i] for i in range(len(string)+1) if is_panlindorm(string[:i])]\n",
    "    return max(candidates, key=len)\n",
    "\n",
    "@lru_cache(maxsize=2*10)\n",
    "def get_panlindorm(string):\n",
    "    if len(string) == 1: return string\n",
    "    return max([get_prefix_panlindorm(string), get_panlindorm(string[1:])], key=len).strip()\n",
    "\n",
    "assert is_panlindorm('ABA')\n",
    "assert is_panlindorm('ABBBA')\n",
    "assert is_panlindorm('BBBB')\n",
    "assert not is_panlindorm('ABAA')\n",
    "assert is_panlindorm('Live on time, emit no evil')\n",
    "\n",
    "assert get_prefix_panlindorm('ABA')  == 'ABA'\n",
    "assert get_prefix_panlindorm('ABABBBB') == 'ABA'\n",
    "assert get_prefix_panlindorm('ABCDEEEEEE') == 'A'\n",
    "\n",
    "assert get_panlindorm('ABA') == 'ABA'\n",
    "assert get_panlindorm('ABAAAAAA') == 'AAAAAA'\n",
    "assert get_panlindorm('I live on time, emit no evil at all') == 'live on time, emit no evil'"
   ]
  },
  {
   "cell_type": "markdown",
   "metadata": {},
   "source": [
    "## Knapsack"
   ]
  },
  {
   "cell_type": "code",
   "execution_count": 3,
   "metadata": {},
   "outputs": [],
   "source": [
    "import random"
   ]
  },
  {
   "cell_type": "code",
   "execution_count": 6,
   "metadata": {},
   "outputs": [],
   "source": [
    "from functools import lru_cache"
   ]
  },
  {
   "cell_type": "code",
   "execution_count": 7,
   "metadata": {},
   "outputs": [],
   "source": [
    "items_random = [(random.randint(1, 10), random.randint(1, 20)) for _ in range(20)]\n",
    "weights = [i[0] for i in items_random]\n",
    "values = [i[1] for i in items_random]"
   ]
  },
  {
   "cell_type": "code",
   "execution_count": 15,
   "metadata": {},
   "outputs": [],
   "source": [
    "K = 20"
   ]
  },
  {
   "cell_type": "code",
   "execution_count": 41,
   "metadata": {},
   "outputs": [],
   "source": [
    "from icecream import ic"
   ]
  },
  {
   "cell_type": "code",
   "execution_count": 52,
   "metadata": {},
   "outputs": [],
   "source": [
    "#solution = [0] * len(items_random)\n",
    "solution = [[0] * len(items_random) for _ in range(K)]\n",
    "\n",
    "@lru_cache(maxsize=2*10)\n",
    "def knapsack(n, k):\n",
    "    # n is the index of the last one candidates\n",
    "    if n < 0: return 0\n",
    "    if weights[n] > k: \n",
    "        return knapsack(n-1, k)\n",
    "    else:\n",
    "        exclude = knapsack(n-1, k)\n",
    "        include = values[n] + knapsack(n - 1, k - weights[n])\n",
    "        if include > exclude:\n",
    "            solution[k][n] = 1\n",
    "            return include\n",
    "        else:\n",
    "            solution[k][n] = 0\n",
    "            return exclude"
   ]
  },
  {
   "cell_type": "code",
   "execution_count": 49,
   "metadata": {},
   "outputs": [
    {
     "data": {
      "text/plain": [
       "[(3, 10),\n",
       " (9, 20),\n",
       " (5, 7),\n",
       " (3, 9),\n",
       " (1, 20),\n",
       " (7, 10),\n",
       " (9, 8),\n",
       " (3, 4),\n",
       " (5, 15),\n",
       " (7, 8),\n",
       " (10, 14),\n",
       " (7, 5),\n",
       " (10, 13),\n",
       " (3, 10),\n",
       " (6, 8),\n",
       " (1, 19),\n",
       " (10, 1),\n",
       " (6, 17),\n",
       " (7, 8),\n",
       " (7, 7)]"
      ]
     },
     "execution_count": 49,
     "metadata": {},
     "output_type": "execute_result"
    }
   ],
   "source": [
    "items_random"
   ]
  },
  {
   "cell_type": "code",
   "execution_count": 51,
   "metadata": {},
   "outputs": [
    {
     "name": "stdout",
     "output_type": "stream",
     "text": [
      "91\n"
     ]
    },
    {
     "data": {
      "text/plain": [
       "[[0, 0, 0, 0, 0, 0, 0, 0, 0, 0, 0, 0, 0, 0, 0, 0, 0, 0, 0, 0],\n",
       " [0, 0, 0, 0, 1, 0, 0, 0, 0, 0, 0, 0, 0, 0, 0, 0, 0, 0, 0, 0],\n",
       " [0, 0, 0, 0, 1, 0, 0, 0, 0, 0, 0, 0, 0, 0, 0, 1, 0, 0, 0, 0],\n",
       " [1, 0, 0, 0, 1, 0, 0, 0, 0, 0, 0, 0, 0, 0, 0, 1, 0, 0, 0, 0],\n",
       " [1, 0, 0, 0, 1, 0, 0, 0, 0, 0, 0, 0, 0, 0, 0, 0, 0, 0, 0, 0],\n",
       " [1, 0, 0, 0, 1, 0, 0, 0, 0, 0, 0, 0, 0, 0, 0, 1, 0, 0, 0, 0],\n",
       " [1, 0, 0, 1, 1, 0, 0, 0, 1, 0, 0, 0, 0, 0, 0, 1, 0, 0, 0, 0],\n",
       " [1, 0, 0, 1, 1, 0, 0, 0, 0, 0, 0, 0, 0, 1, 0, 0, 0, 0, 0, 0],\n",
       " [1, 0, 1, 1, 1, 0, 0, 0, 0, 0, 0, 0, 0, 1, 0, 0, 0, 0, 0, 0],\n",
       " [1, 1, 0, 0, 1, 0, 0, 0, 1, 0, 0, 0, 0, 0, 0, 1, 0, 0, 0, 0],\n",
       " [1, 1, 0, 0, 1, 0, 0, 1, 1, 0, 0, 0, 0, 0, 0, 0, 0, 0, 0, 0],\n",
       " [1, 1, 0, 1, 1, 0, 0, 1, 1, 0, 0, 0, 0, 1, 0, 0, 0, 0, 0, 0],\n",
       " [1, 1, 0, 0, 1, 0, 0, 0, 1, 0, 0, 0, 0, 1, 0, 1, 0, 0, 0, 0],\n",
       " [1, 1, 0, 0, 1, 0, 0, 0, 1, 0, 0, 0, 0, 1, 0, 1, 0, 0, 0, 0],\n",
       " [1, 1, 0, 0, 1, 0, 0, 0, 0, 0, 0, 0, 0, 0, 0, 0, 0, 0, 0, 0],\n",
       " [1, 1, 0, 1, 1, 0, 0, 0, 1, 0, 0, 0, 0, 0, 0, 0, 0, 0, 0, 0],\n",
       " [1, 1, 0, 1, 1, 0, 0, 0, 0, 0, 0, 0, 0, 0, 0, 0, 0, 0, 0, 0],\n",
       " [1, 1, 1, 1, 0, 0, 0, 0, 0, 0, 0, 0, 0, 0, 0, 0, 0, 0, 0, 0],\n",
       " [1, 1, 1, 1, 1, 0, 0, 0, 1, 0, 0, 0, 0, 1, 0, 0, 0, 0, 0, 0],\n",
       " [1, 1, 1, 1, 1, 0, 0, 1, 1, 0, 0, 0, 0, 1, 0, 1, 0, 1, 0, 0]]"
      ]
     },
     "execution_count": 51,
     "metadata": {},
     "output_type": "execute_result"
    }
   ],
   "source": [
    "optimal = knapsack(len(items_random)-1, 19)\n",
    "print(optimal)\n",
    "solution"
   ]
  },
  {
   "cell_type": "markdown",
   "metadata": {},
   "source": [
    "## Optimizatoin"
   ]
  },
  {
   "cell_type": "markdown",
   "metadata": {},
   "source": [
    "## Dynamic Programming Optimization"
   ]
  },
  {
   "cell_type": "markdown",
   "metadata": {},
   "source": [
    "## Linear Optimization"
   ]
  },
  {
   "cell_type": "markdown",
   "metadata": {},
   "source": [
    "## Constraint Optimization Programming"
   ]
  },
  {
   "cell_type": "markdown",
   "metadata": {},
   "source": [
    "## Max Intergral Optimization"
   ]
  },
  {
   "cell_type": "code",
   "execution_count": 217,
   "metadata": {},
   "outputs": [
    {
     "data": {
      "text/plain": [
       "[(7, 16),\n",
       " (2, 14),\n",
       " (2, 6),\n",
       " (2, 5),\n",
       " (3, 16),\n",
       " (2, 17),\n",
       " (4, 6),\n",
       " (7, 5),\n",
       " (10, 8),\n",
       " (1, 13),\n",
       " (3, 10),\n",
       " (10, 12),\n",
       " (3, 19),\n",
       " (7, 12),\n",
       " (5, 4),\n",
       " (8, 14),\n",
       " (10, 12),\n",
       " (4, 10),\n",
       " (2, 20),\n",
       " (3, 15)]"
      ]
     },
     "execution_count": 217,
     "metadata": {},
     "output_type": "execute_result"
    }
   ],
   "source": [
    "items_random"
   ]
  },
  {
   "cell_type": "code",
   "execution_count": 222,
   "metadata": {},
   "outputs": [
    {
     "data": {
      "text/plain": [
       "[0, 1, 0, 0, 1, 1, 0, 0, 0, 1, 0, 0, 0, 0, 0, 0, 0, 0, 1, 0]"
      ]
     },
     "execution_count": 222,
     "metadata": {},
     "output_type": "execute_result"
    }
   ],
   "source": [
    "kk"
   ]
  },
  {
   "cell_type": "code",
   "execution_count": 221,
   "metadata": {},
   "outputs": [
    {
     "data": {
      "text/plain": [
       "33"
      ]
     },
     "execution_count": 221,
     "metadata": {},
     "output_type": "execute_result"
    }
   ],
   "source": []
  },
  {
   "cell_type": "code",
   "execution_count": 116,
   "metadata": {},
   "outputs": [
    {
     "data": {
      "text/plain": [
       "[(7, 16),\n",
       " (2, 14),\n",
       " (2, 6),\n",
       " (2, 5),\n",
       " (3, 16),\n",
       " (2, 17),\n",
       " (4, 6),\n",
       " (7, 5),\n",
       " (10, 8),\n",
       " (1, 13),\n",
       " (3, 10),\n",
       " (10, 12),\n",
       " (3, 19),\n",
       " (7, 12),\n",
       " (5, 4),\n",
       " (8, 14),\n",
       " (10, 12),\n",
       " (4, 10),\n",
       " (2, 20),\n",
       " (3, 15)]"
      ]
     },
     "execution_count": 116,
     "metadata": {},
     "output_type": "execute_result"
    }
   ],
   "source": [
    "items_random"
   ]
  },
  {
   "cell_type": "code",
   "execution_count": 103,
   "metadata": {},
   "outputs": [
    {
     "data": {
      "text/plain": [
       "[7, 2, 2, 2, 3, 2, 4, 7, 10, 1, 3, 10, 3, 7, 5, 8, 10, 4, 2, 3]"
      ]
     },
     "execution_count": 103,
     "metadata": {},
     "output_type": "execute_result"
    }
   ],
   "source": [
    "weights"
   ]
  },
  {
   "cell_type": "code",
   "execution_count": 104,
   "metadata": {},
   "outputs": [
    {
     "data": {
      "text/plain": [
       "[16, 14, 6, 5, 16, 17, 6, 5, 8, 13, 10, 12, 19, 12, 4, 14, 12, 10, 20, 15]"
      ]
     },
     "execution_count": 104,
     "metadata": {},
     "output_type": "execute_result"
    }
   ],
   "source": [
    "values"
   ]
  },
  {
   "cell_type": "code",
   "execution_count": 93,
   "metadata": {},
   "outputs": [
    {
     "data": {
      "text/plain": [
       "20"
      ]
     },
     "execution_count": 93,
     "metadata": {},
     "output_type": "execute_result"
    }
   ],
   "source": [
    "len(weights)"
   ]
  },
  {
   "cell_type": "code",
   "execution_count": 102,
   "metadata": {},
   "outputs": [
    {
     "data": {
      "text/plain": [
       "13"
      ]
     },
     "execution_count": 102,
     "metadata": {},
     "output_type": "execute_result"
    }
   ],
   "source": [
    "knapsack(19, 1)"
   ]
  },
  {
   "cell_type": "markdown",
   "metadata": {},
   "source": [
    "## CV \n",
    "+ 可以参考 Stanford NLP, CV Group \n",
    "+ 素雅 \n",
    "+ 突出重点"
   ]
  },
  {
   "cell_type": "markdown",
   "metadata": {},
   "source": [
    "## 面试 \n",
    "+ 突出自己的优点, e.g 学习能力 我的抗压能力\n",
    "+ 引导面试官\n",
    "+ 优秀的面试官发你的潜力 发现的你长处 看看你这个长处到底有多长\n",
    "+ 糟糕的面试官是，只关注你会不会他想让你知道的那个东西，关注你的“经历”"
   ]
  },
  {
   "cell_type": "markdown",
   "metadata": {},
   "source": [
    "## 快速入行 技能驱动 \n",
    "## 不管你在哪个公司 只要面对的问题大体类似 "
   ]
  }
 ],
 "metadata": {
  "kernelspec": {
   "display_name": "Python 3",
   "language": "python",
   "name": "python3"
  },
  "language_info": {
   "codemirror_mode": {
    "name": "ipython",
    "version": 3
   },
   "file_extension": ".py",
   "mimetype": "text/x-python",
   "name": "python",
   "nbconvert_exporter": "python",
   "pygments_lexer": "ipython3",
   "version": "3.6.6"
  }
 },
 "nbformat": 4,
 "nbformat_minor": 2
}
